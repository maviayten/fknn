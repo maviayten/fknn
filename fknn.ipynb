{
  "nbformat": 4,
  "nbformat_minor": 0,
  "metadata": {
    "colab": {
      "provenance": [],
      "authorship_tag": "ABX9TyOygkrb2l8zpV8NJy5bUBho",
      "include_colab_link": true
    },
    "kernelspec": {
      "name": "python3",
      "display_name": "Python 3"
    },
    "language_info": {
      "name": "python"
    }
  },
  "cells": [
    {
      "cell_type": "markdown",
      "metadata": {
        "id": "view-in-github",
        "colab_type": "text"
      },
      "source": [
        "<a href=\"https://colab.research.google.com/github/maviayten/fknn/blob/main/fknn.ipynb\" target=\"_parent\"><img src=\"https://colab.research.google.com/assets/colab-badge.svg\" alt=\"Open In Colab\"/></a>"
      ]
    },
    {
      "cell_type": "code",
      "execution_count": null,
      "metadata": {
        "id": "BFrAoetq3tQq"
      },
      "outputs": [],
      "source": [
        "import numpy as np"
      ]
    },
    {
      "cell_type": "code",
      "source": [
        "def mesafe_hesapla(x,xi):\n",
        "  return np.sqrt(np.sum((x-xi)**2))\n",
        "\n",
        "def fknn(x,W,u_labels,K,m=2):\n",
        "  n_samples=W.shape[0]\n",
        "  mesafeler=[]\n",
        "\n",
        "  for xi in W:\n",
        "    mesafeler.append(mesafe_hesapla(x,xi))\n",
        "\n",
        "  en_yakin_indisler=np.argsort(mesafeler)[:K]\n",
        "  en_yakin_ornekler=W[en_yakin_indisler]\n",
        "  en_yakin_uyelikler=u_labels[en_yakin_indisler]\n",
        "\n",
        "  sinif_sayisi=u_labels.shape[1]\n",
        "  üyelikler=np.zeros(sinif_sayisi)\n",
        "\n",
        "  for i in range(sinif_sayisi):\n",
        "    pay=0\n",
        "    payda=0\n",
        "    for j,idx in enumerate(en_yakin_indisler):\n",
        "      mesafe=mesafeler[idx]\n",
        "      agirlik=1/(mesafe) ** (2/(m-1)+1e-10)\n",
        "      pay += agirlik * en_yakin_uyelikler[j,i]\n",
        "      payda += agirlik\n",
        "    üyelikler[i]=pay/payda\n",
        "  return üyelikler\n"
      ],
      "metadata": {
        "id": "r8OI2jU1-5Vn"
      },
      "execution_count": null,
      "outputs": []
    },
    {
      "cell_type": "code",
      "source": [
        "W=np.array([[1,2],[2,3],[3,4]])\n",
        "u_labels=np.array([[0.8,0.2],[0.4,0.6],[0.3,0.7]])\n",
        "x=np.array([2.5,3.5])\n",
        "K=2\n",
        "m=2\n",
        "sonuc=fknn(x,W,u_labels,K,m)\n",
        "sonuc"
      ],
      "metadata": {
        "colab": {
          "base_uri": "https://localhost:8080/"
        },
        "id": "M06WFsSxBH1V",
        "outputId": "3129b5b6-73b6-4051-c912-984ae7798836"
      },
      "execution_count": null,
      "outputs": [
        {
          "output_type": "execute_result",
          "data": {
            "text/plain": [
              "array([0.35, 0.65])"
            ]
          },
          "metadata": {},
          "execution_count": 3
        }
      ]
    },
    {
      "cell_type": "code",
      "source": [],
      "metadata": {
        "id": "LadHVO-pB5Vo"
      },
      "execution_count": null,
      "outputs": []
    }
  ]
}