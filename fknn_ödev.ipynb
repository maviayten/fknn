{
  "nbformat": 4,
  "nbformat_minor": 0,
  "metadata": {
    "colab": {
      "provenance": [],
      "authorship_tag": "ABX9TyOmiUMaYZ/AMsIbd2zB6ytT",
      "include_colab_link": true
    },
    "kernelspec": {
      "name": "python3",
      "display_name": "Python 3"
    },
    "language_info": {
      "name": "python"
    }
  },
  "cells": [
    {
      "cell_type": "markdown",
      "metadata": {
        "id": "view-in-github",
        "colab_type": "text"
      },
      "source": [
        "<a href=\"https://colab.research.google.com/github/maviayten/fknn/blob/main/fknn_%C3%B6dev.ipynb\" target=\"_parent\"><img src=\"https://colab.research.google.com/assets/colab-badge.svg\" alt=\"Open In Colab\"/></a>"
      ]
    },
    {
      "cell_type": "code",
      "execution_count": 1,
      "metadata": {
        "colab": {
          "base_uri": "https://localhost:8080/"
        },
        "id": "xXDvAHLKcDsm",
        "outputId": "f93a0ec6-8cd6-4575-8ba4-48b15e24964c"
      },
      "outputs": [
        {
          "output_type": "stream",
          "name": "stdout",
          "text": [
            "Öngörülen üyelikler: [0.66553841 0.23446159 0.1       ]\n"
          ]
        }
      ],
      "source": [
        "import numpy as np\n",
        "\n",
        "def mesafe_hesapla(x, xi):\n",
        "    return np.sqrt(np.sum((x - xi) ** 2))\n",
        "\n",
        "def fknn(x, W, u_labels, K, m=2.5):\n",
        "    n_samples = W.shape[0]\n",
        "    mesafeler = []\n",
        "\n",
        "    for xi in W:\n",
        "        mesafeler.append(mesafe_hesapla(x, xi))\n",
        "\n",
        "    en_yakin_indisler = np.argsort(mesafeler)[:K]\n",
        "    en_yakin_ornekler = W[en_yakin_indisler]\n",
        "    en_yakin_uyelikler = u_labels[en_yakin_indisler]\n",
        "\n",
        "    sinif_sayisi = u_labels.shape[1]\n",
        "    üyelikler = np.zeros(sinif_sayisi)\n",
        "\n",
        "    for i in range(sinif_sayisi):\n",
        "        pay = 0\n",
        "        payda = 0\n",
        "        for j, idx in enumerate(en_yakin_indisler):\n",
        "            mesafe = mesafeler[idx]\n",
        "            agirlik = 1 / (mesafe ** (2 / (m - 1) + 1e-10))\n",
        "            pay += agirlik * en_yakin_uyelikler[j, i]\n",
        "            payda += agirlik\n",
        "        üyelikler[i] = pay / payda\n",
        "\n",
        "    return üyelikler\n",
        "\n",
        "# Parametreler\n",
        "W = np.array([[1, 2, 3, 4], [2, 3, 4, 5], [3, 4, 5, 6], [4, 5, 6, 7],\n",
        "              [5, 6, 7, 8], [6, 7, 8, 9], [7, 8, 9, 10], [8, 9, 10, 11],\n",
        "              [9, 10, 11, 12], [10, 11, 12, 13]])  # 10 örnek, 4 özellik\n",
        "u_labels = np.array([[0.8, 0.1, 0.1], [0.7, 0.2, 0.1], [0.6, 0.3, 0.1],\n",
        "                     [0.5, 0.4, 0.1], [0.4, 0.5, 0.1], [0.3, 0.6, 0.1],\n",
        "                     [0.2, 0.7, 0.1], [0.1, 0.8, 0.1], [0.2, 0.7, 0.1],\n",
        "                     [0.3, 0.6, 0.1]])  # 10 örnek, 3 sınıf\n",
        "x = np.array([2.5, 3.5, 4.5, 5.5])  # 4 özellikli yeni bir örnek\n",
        "K = 3  # En yakın 3 komşu\n",
        "\n",
        "# Sonuç hesaplama\n",
        "sonuc = fknn(x, W, u_labels, K, m=2.5)\n",
        "print(\"Öngörülen üyelikler:\", sonuc)\n"
      ]
    },
    {
      "cell_type": "code",
      "source": [],
      "metadata": {
        "id": "iCVLbnNdcE2d"
      },
      "execution_count": null,
      "outputs": []
    }
  ]
}